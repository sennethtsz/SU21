{
 "cells": [
  {
   "cell_type": "markdown",
   "metadata": {
    "deletable": false,
    "editable": false,
    "nbgrader": {
     "grade": false,
     "locked": true,
     "solution": false
    }
   },
   "source": [
    "# MGT6203 HW2 Part 2"
   ]
  },
  {
   "cell_type": "markdown",
   "metadata": {
    "deletable": false,
    "editable": false,
    "nbgrader": {
     "grade": false,
     "locked": true,
     "solution": false
    }
   },
   "source": [
    "## Instructions:\n",
    "\n",
    "\n",
    "**For Homework 2 Part 2, please use this R notebook in Vocareum to submit your solutions. Vocareum is an educational cloud platform for programming in several languages; it is based on the Jupyter notebook environment. This platform allows us to move homework assignments to the cloud. The advantages are that all of you will be working in the same coding environment AND peer reviewers will be able to run your R code easily. This way we eliminate some issues we might encounter when working on an individual/local basis, such as library installations and Rstudio OS requirements; R notebooks work on mobile platforms and tablets.**\n",
    "\n",
    "**With R notebooks, you will be learning a new way of presenting data analysis reports, that is neat and flexible, where formatted (English) text and (R) code can easily coexist on the same page. Notebooks can be also collaborative when needed. For now, we are asking each of you to do your own work for homework. Think of R notebooks as interactive program-based Google docs or MS-Office 360 docs; these are gradually replacing local files on our computers. **\n",
    "\n",
    "**Many of you are new to the R notebooks and Vocareum platforms. We will provide TA help in Piazza with specific code if you have questions. Here we list some important things to get you started. Please read through them carefully.**\n",
    "\n",
    "\n",
    "<ol>\n",
    "<li>Even though we are moving from your local envrionment to the cloud, **our expectations from your homework will remain the same**. Same goes for the rubrics.</li>\n",
    "\n",
    "<li>Vocareum has its own cloud based file system, the data files you will be using for the assignments will be stored in the cloud with path **\"../resource/asnlib/publicdata/FILENAME.csv\"**. You will be able to import them with the same method as you do in RStudio, simply substitute the path name to the one specified in the instructions. You won't be able to modify these data files.</li>\n",
    "\n",
    "<li>You will be able to find the data files on Canvas/EdX if you would like to explore them offline.</li>\n",
    "\n",
    "<li>**For coding questions, you will be graded on the R code as well as the output** in your submission.</li>\n",
    "\n",
    "<li>**For interpretations or short response questions, please type the answers in the notebook's markdown cells**. To change a code cell to a markdown cell, click on the cell, and in the dropdown menu above, switch the type of the cell block from \"code\" to \"markdown\". **Adding print statements to code cells for short response/interpretation questions is also fine, as long as we can clearly see the output of your response**.</li>\n",
    "\n",
    "<li>You don't need to, but if you would like to learn more about how to format your markdown cells, visit the following site: https://www.earthdatascience.org/courses/intro-to-earth-data-science/file-formats/use-text-files/format-text-with-markdown-jupyter-notebook/. Jupyter notebook also support LaTeX.</li>\n",
    "\n",
    "<li>**Feel free to delete or add as many additional cells as you need**. But please try to keep your notebook clean and keep your solution to a question directly under that question to avoid confusions.</li>\n",
    "\n",
    "<li>You may delete the #SOLUTION BEGINS/ENDS HERE comments from the cell blocks, they are just pointers that indicates where to put you solutions.</li>\n",
    "\n",
    "<li>**When you have finished the assignment, remember to rerun your notebook to check if it runs correctly.** You can do so by going to **Kernel-> Restart & Run All**. You may lose points if your solutions does not run successfully.</li>\n",
    "\n",
    "<li>**Click the \"Submit\" button on the top right corner to turn in your assignment**. Your assignment will enter the next phase for peer review.</li>\n",
    "\n",
    "<li>**You are allowed a total of 2 submissions for this assignment. So make sure that you submit your responses carefully. You will be able to come back and resubmit your assignment as long as it is before the start of the peer review period.</li>\n",
    "\n",
    "<li>**Please remember to finish the peer reviews after you have submitted your assignment.** You are responsible for grading the work of three of your peers thoroughly, and in addherence to the rubrics. And you will be held accountable for peer grading. **There will be a 30% penalty to your grade if you fail to complete one or more peer reviews in proper fashion.**</li>\n",
    "\n",
    "<li>Good Luck!</li>\n",
    "\n",
    "</ol>\n",
    "\n"
   ]
  },
  {
   "cell_type": "markdown",
   "metadata": {
    "deletable": false,
    "editable": false,
    "nbgrader": {
     "grade": false,
     "locked": true,
     "solution": false
    }
   },
   "source": [
    "# About Package Installation:\n",
    "\n",
    "Most of the packages (if not all) that you will need to complete this assignment are already installed in this environment. An easy way to check this is to run the command: library(PackageName). If this command runs successfully then the package was already installed and has been successfully attached to the code. If the command gave an error saying the Package was not found then follow the steps below to successfully install the package and attach it to the code: \n",
    "\n",
    "Use *installed.packages()* command to return a table of the packages that are preinstalled in the environment.\n",
    "\n",
    "To attach a preinstalled library in Vocareum, simply use *library(PackageName)*\n",
    "\n",
    "**To install a package that does not come with the provided environment, please use the following syntax:**\n",
    "\n",
    "*install.packages(\"PackageName\", lib=\"../work/\")*\n",
    "\n",
    "**To attach a library you just installed, use the following syntax:**\n",
    "\n",
    "*library(PackageName, lib.loc=\"../work/\")*\n",
    "\n",
    "Make sure the file location is the same as the above code snippets *(\"../work/\")*\n",
    "\n",
    "\n"
   ]
  },
  {
   "cell_type": "markdown",
   "metadata": {
    "deletable": false,
    "editable": false,
    "nbgrader": {
     "grade": false,
     "locked": true,
     "solution": false
    }
   },
   "source": [
    "## Q1. (30 Points Total)\n",
    "\n",
    "### For part A and B:\n",
    "\n",
    "\"PlantGrowth\" is a dataset in R that contains crop weights of a control group and two treatment groups.   \n",
    "\n",
    "*#Code to Get Data*\n",
    "\n",
    "*library(datasets)*\n",
    "\n",
    "*data(PlantGrowth)*\n",
    "\n",
    "**Perform the following operations:  Create two separate datasets: dataset1 contains datapoints of treatment 1 group and control group, and dataset2 contains datapoints of treatment 2 group with the control group.**\n"
   ]
  },
  {
   "cell_type": "markdown",
   "metadata": {
    "deletable": false,
    "editable": false,
    "nbgrader": {
     "grade": false,
     "locked": true,
     "solution": false
    }
   },
   "source": [
    "### A. Now compute the difference estimator for each dataset that were just created. (treatment 1 vs control group for dataset1, and treatment 2 vs control group for dataset2) (5 Points)"
   ]
  },
  {
   "cell_type": "code",
   "execution_count": 18,
   "metadata": {},
   "outputs": [
    {
     "name": "stderr",
     "output_type": "stream",
     "text": [
      "Loading required package: dplyr\n",
      "\n",
      "\n",
      "Attaching package: ‘dplyr’\n",
      "\n",
      "\n",
      "The following objects are masked from ‘package:stats’:\n",
      "\n",
      "    filter, lag\n",
      "\n",
      "\n",
      "The following objects are masked from ‘package:base’:\n",
      "\n",
      "    intersect, setdiff, setequal, union\n",
      "\n",
      "\n"
     ]
    }
   ],
   "source": [
    "# SOLUTION BEGINS HERE\n",
    "if(!require(\"datasets\")) {install.packages(\"datasets\")\n",
    "                          library(\"datasets\")}\n",
    "if(!require(\"dplyr\")) {install.packages(\"dplyr\")\n",
    "                       library(\"dplyr\")}\n",
    "data(PlantGrowth)"
   ]
  },
  {
   "cell_type": "code",
   "execution_count": 26,
   "metadata": {},
   "outputs": [
    {
     "name": "stdout",
     "output_type": "stream",
     "text": [
      "'data.frame':\t30 obs. of  2 variables:\n",
      " $ weight: num  4.17 5.58 5.18 6.11 4.5 4.61 5.17 4.53 5.33 5.14 ...\n",
      " $ group : Factor w/ 3 levels \"ctrl\",\"trt1\",..: 1 1 1 1 1 1 1 1 1 1 ...\n"
     ]
    },
    {
     "data": {
      "text/html": [
       "<style>\n",
       ".list-inline {list-style: none; margin:0; padding: 0}\n",
       ".list-inline>li {display: inline-block}\n",
       ".list-inline>li:not(:last-child)::after {content: \"\\00b7\"; padding: 0 .5ex}\n",
       "</style>\n",
       "<ol class=list-inline><li>ctrl</li><li>trt1</li><li>trt2</li></ol>\n",
       "\n",
       "<details>\n",
       "\t<summary style=display:list-item;cursor:pointer>\n",
       "\t\t<strong>Levels</strong>:\n",
       "\t</summary>\n",
       "\t<style>\n",
       "\t.list-inline {list-style: none; margin:0; padding: 0}\n",
       "\t.list-inline>li {display: inline-block}\n",
       "\t.list-inline>li:not(:last-child)::after {content: \"\\00b7\"; padding: 0 .5ex}\n",
       "\t</style>\n",
       "\t<ol class=list-inline><li>'ctrl'</li><li>'trt1'</li><li>'trt2'</li></ol>\n",
       "</details>"
      ],
      "text/latex": [
       "\\begin{enumerate*}\n",
       "\\item ctrl\n",
       "\\item trt1\n",
       "\\item trt2\n",
       "\\end{enumerate*}\n",
       "\n",
       "\\emph{Levels}: \\begin{enumerate*}\n",
       "\\item 'ctrl'\n",
       "\\item 'trt1'\n",
       "\\item 'trt2'\n",
       "\\end{enumerate*}\n"
      ],
      "text/markdown": [
       "1. ctrl\n",
       "2. trt1\n",
       "3. trt2\n",
       "\n",
       "\n",
       "\n",
       "**Levels**: 1. 'ctrl'\n",
       "2. 'trt1'\n",
       "3. 'trt2'\n",
       "\n",
       "\n"
      ],
      "text/plain": [
       "[1] ctrl trt1 trt2\n",
       "Levels: ctrl trt1 trt2"
      ]
     },
     "metadata": {},
     "output_type": "display_data"
    },
    {
     "data": {
      "text/html": [
       "<table>\n",
       "<caption>A data.frame: 6 × 2</caption>\n",
       "<thead>\n",
       "\t<tr><th></th><th scope=col>weight</th><th scope=col>group</th></tr>\n",
       "\t<tr><th></th><th scope=col>&lt;dbl&gt;</th><th scope=col>&lt;fct&gt;</th></tr>\n",
       "</thead>\n",
       "<tbody>\n",
       "\t<tr><th scope=row>1</th><td>4.17</td><td>ctrl</td></tr>\n",
       "\t<tr><th scope=row>2</th><td>5.58</td><td>ctrl</td></tr>\n",
       "\t<tr><th scope=row>3</th><td>5.18</td><td>ctrl</td></tr>\n",
       "\t<tr><th scope=row>4</th><td>6.11</td><td>ctrl</td></tr>\n",
       "\t<tr><th scope=row>5</th><td>4.50</td><td>ctrl</td></tr>\n",
       "\t<tr><th scope=row>6</th><td>4.61</td><td>ctrl</td></tr>\n",
       "</tbody>\n",
       "</table>\n"
      ],
      "text/latex": [
       "A data.frame: 6 × 2\n",
       "\\begin{tabular}{r|ll}\n",
       "  & weight & group\\\\\n",
       "  & <dbl> & <fct>\\\\\n",
       "\\hline\n",
       "\t1 & 4.17 & ctrl\\\\\n",
       "\t2 & 5.58 & ctrl\\\\\n",
       "\t3 & 5.18 & ctrl\\\\\n",
       "\t4 & 6.11 & ctrl\\\\\n",
       "\t5 & 4.50 & ctrl\\\\\n",
       "\t6 & 4.61 & ctrl\\\\\n",
       "\\end{tabular}\n"
      ],
      "text/markdown": [
       "\n",
       "A data.frame: 6 × 2\n",
       "\n",
       "| <!--/--> | weight &lt;dbl&gt; | group &lt;fct&gt; |\n",
       "|---|---|---|\n",
       "| 1 | 4.17 | ctrl |\n",
       "| 2 | 5.58 | ctrl |\n",
       "| 3 | 5.18 | ctrl |\n",
       "| 4 | 6.11 | ctrl |\n",
       "| 5 | 4.50 | ctrl |\n",
       "| 6 | 4.61 | ctrl |\n",
       "\n"
      ],
      "text/plain": [
       "  weight group\n",
       "1 4.17   ctrl \n",
       "2 5.58   ctrl \n",
       "3 5.18   ctrl \n",
       "4 6.11   ctrl \n",
       "5 4.50   ctrl \n",
       "6 4.61   ctrl "
      ]
     },
     "metadata": {},
     "output_type": "display_data"
    }
   ],
   "source": [
    "data = PlantGrowth\n",
    "str(data)\n",
    "unique(data$group)\n",
    "head(data)"
   ]
  },
  {
   "cell_type": "code",
   "execution_count": 27,
   "metadata": {
    "scrolled": true
   },
   "outputs": [
    {
     "name": "stdout",
     "output_type": "stream",
     "text": [
      "'data.frame':\t20 obs. of  2 variables:\n",
      " $ weight: num  4.17 5.58 5.18 6.11 4.5 4.61 5.17 4.53 5.33 5.14 ...\n",
      " $ group : Factor w/ 3 levels \"ctrl\",\"trt1\",..: 1 1 1 1 1 1 1 1 1 1 ...\n"
     ]
    },
    {
     "data": {
      "text/html": [
       "<style>\n",
       ".list-inline {list-style: none; margin:0; padding: 0}\n",
       ".list-inline>li {display: inline-block}\n",
       ".list-inline>li:not(:last-child)::after {content: \"\\00b7\"; padding: 0 .5ex}\n",
       "</style>\n",
       "<ol class=list-inline><li>ctrl</li><li>trt1</li></ol>\n",
       "\n",
       "<details>\n",
       "\t<summary style=display:list-item;cursor:pointer>\n",
       "\t\t<strong>Levels</strong>:\n",
       "\t</summary>\n",
       "\t<style>\n",
       "\t.list-inline {list-style: none; margin:0; padding: 0}\n",
       "\t.list-inline>li {display: inline-block}\n",
       "\t.list-inline>li:not(:last-child)::after {content: \"\\00b7\"; padding: 0 .5ex}\n",
       "\t</style>\n",
       "\t<ol class=list-inline><li>'ctrl'</li><li>'trt1'</li><li>'trt2'</li></ol>\n",
       "</details>"
      ],
      "text/latex": [
       "\\begin{enumerate*}\n",
       "\\item ctrl\n",
       "\\item trt1\n",
       "\\end{enumerate*}\n",
       "\n",
       "\\emph{Levels}: \\begin{enumerate*}\n",
       "\\item 'ctrl'\n",
       "\\item 'trt1'\n",
       "\\item 'trt2'\n",
       "\\end{enumerate*}\n"
      ],
      "text/markdown": [
       "1. ctrl\n",
       "2. trt1\n",
       "\n",
       "\n",
       "\n",
       "**Levels**: 1. 'ctrl'\n",
       "2. 'trt1'\n",
       "3. 'trt2'\n",
       "\n",
       "\n"
      ],
      "text/plain": [
       "[1] ctrl trt1\n",
       "Levels: ctrl trt1 trt2"
      ]
     },
     "metadata": {},
     "output_type": "display_data"
    }
   ],
   "source": [
    "data1 = subset(data, group == \"trt1\" | group == \"ctrl\")\n",
    "str(data1)\n",
    "unique(data1$group)"
   ]
  },
  {
   "cell_type": "code",
   "execution_count": 31,
   "metadata": {},
   "outputs": [
    {
     "name": "stdout",
     "output_type": "stream",
     "text": [
      "'data.frame':\t20 obs. of  2 variables:\n",
      " $ weight: num  4.17 5.58 5.18 6.11 4.5 4.61 5.17 4.53 5.33 5.14 ...\n",
      " $ group : Factor w/ 3 levels \"ctrl\",\"trt1\",..: 1 1 1 1 1 1 1 1 1 1 ...\n"
     ]
    },
    {
     "data": {
      "text/html": [
       "<style>\n",
       ".list-inline {list-style: none; margin:0; padding: 0}\n",
       ".list-inline>li {display: inline-block}\n",
       ".list-inline>li:not(:last-child)::after {content: \"\\00b7\"; padding: 0 .5ex}\n",
       "</style>\n",
       "<ol class=list-inline><li>ctrl</li><li>trt2</li></ol>\n",
       "\n",
       "<details>\n",
       "\t<summary style=display:list-item;cursor:pointer>\n",
       "\t\t<strong>Levels</strong>:\n",
       "\t</summary>\n",
       "\t<style>\n",
       "\t.list-inline {list-style: none; margin:0; padding: 0}\n",
       "\t.list-inline>li {display: inline-block}\n",
       "\t.list-inline>li:not(:last-child)::after {content: \"\\00b7\"; padding: 0 .5ex}\n",
       "\t</style>\n",
       "\t<ol class=list-inline><li>'ctrl'</li><li>'trt1'</li><li>'trt2'</li></ol>\n",
       "</details>"
      ],
      "text/latex": [
       "\\begin{enumerate*}\n",
       "\\item ctrl\n",
       "\\item trt2\n",
       "\\end{enumerate*}\n",
       "\n",
       "\\emph{Levels}: \\begin{enumerate*}\n",
       "\\item 'ctrl'\n",
       "\\item 'trt1'\n",
       "\\item 'trt2'\n",
       "\\end{enumerate*}\n"
      ],
      "text/markdown": [
       "1. ctrl\n",
       "2. trt2\n",
       "\n",
       "\n",
       "\n",
       "**Levels**: 1. 'ctrl'\n",
       "2. 'trt1'\n",
       "3. 'trt2'\n",
       "\n",
       "\n"
      ],
      "text/plain": [
       "[1] ctrl trt2\n",
       "Levels: ctrl trt1 trt2"
      ]
     },
     "metadata": {},
     "output_type": "display_data"
    }
   ],
   "source": [
    "data2 = subset(data, group == \"trt2\" | group == \"ctrl\")\n",
    "str(data2)\n",
    "unique(data2$group)"
   ]
  },
  {
   "cell_type": "code",
   "execution_count": 33,
   "metadata": {},
   "outputs": [
    {
     "data": {
      "text/plain": [
       "\n",
       "Call:\n",
       "lm(formula = weight ~ group, data = data1)\n",
       "\n",
       "Residuals:\n",
       "    Min      1Q  Median      3Q     Max \n",
       "-1.0710 -0.4938  0.0685  0.2462  1.3690 \n",
       "\n",
       "Coefficients:\n",
       "            Estimate Std. Error t value Pr(>|t|)    \n",
       "(Intercept)   5.0320     0.2202  22.850 9.55e-15 ***\n",
       "grouptrt1    -0.3710     0.3114  -1.191    0.249    \n",
       "---\n",
       "Signif. codes:  0 ‘***’ 0.001 ‘**’ 0.01 ‘*’ 0.05 ‘.’ 0.1 ‘ ’ 1\n",
       "\n",
       "Residual standard error: 0.6964 on 18 degrees of freedom\n",
       "Multiple R-squared:  0.07308,\tAdjusted R-squared:  0.02158 \n",
       "F-statistic: 1.419 on 1 and 18 DF,  p-value: 0.249\n"
      ]
     },
     "metadata": {},
     "output_type": "display_data"
    }
   ],
   "source": [
    "model1 = lm(weight~group, data1)\n",
    "summary(model1)"
   ]
  },
  {
   "cell_type": "code",
   "execution_count": 35,
   "metadata": {},
   "outputs": [
    {
     "data": {
      "text/plain": [
       "\n",
       "Call:\n",
       "lm(formula = weight ~ group, data = data2)\n",
       "\n",
       "Residuals:\n",
       "   Min     1Q Median     3Q    Max \n",
       "-0.862 -0.410 -0.006  0.280  1.078 \n",
       "\n",
       "Coefficients:\n",
       "            Estimate Std. Error t value Pr(>|t|)    \n",
       "(Intercept)   5.0320     0.1637  30.742   <2e-16 ***\n",
       "grouptrt2     0.4940     0.2315   2.134   0.0469 *  \n",
       "---\n",
       "Signif. codes:  0 ‘***’ 0.001 ‘**’ 0.01 ‘*’ 0.05 ‘.’ 0.1 ‘ ’ 1\n",
       "\n",
       "Residual standard error: 0.5176 on 18 degrees of freedom\n",
       "Multiple R-squared:  0.2019,\tAdjusted R-squared:  0.1576 \n",
       "F-statistic: 4.554 on 1 and 18 DF,  p-value: 0.04685\n"
      ]
     },
     "metadata": {},
     "output_type": "display_data"
    }
   ],
   "source": [
    "model2 = lm(weight~group, data2)\n",
    "summary(model2)\n",
    "# SOLUTION ENDS HERE"
   ]
  },
  {
   "cell_type": "markdown",
   "metadata": {
    "deletable": false,
    "editable": false,
    "nbgrader": {
     "grade": false,
     "locked": true,
     "solution": false
    }
   },
   "source": [
    "### B. From the 'PlantGrowth' dataset, what is the average crop weight of the control group, treatment 1 group, and treatment 2 group? Comment on which group has the highest average. (6 Points)"
   ]
  },
  {
   "cell_type": "code",
   "execution_count": 48,
   "metadata": {},
   "outputs": [
    {
     "name": "stdout",
     "output_type": "stream",
     "text": [
      "[1] \"Average weight for:\"\n",
      "[1] \"Control: 5.032\"\n",
      "[1] \"Treatment Group 1: 4.661\"\n",
      "[1] \"Treatment Group 2: 5.526\"\n"
     ]
    }
   ],
   "source": [
    "# SOLUTION BEGINS HERE\n",
    "avg_weight_ctrl = mean(data[which(data$group == \"ctrl\"),]$weight)\n",
    "avg_weight_trt1 = mean(data[which(data$group == \"trt1\"),]$weight)\n",
    "avg_weight_trt2 = mean(data[which(data$group == \"trt2\"),]$weight)\n",
    "\n",
    "print(\"Average weight for:\")\n",
    "print(paste0(\"Control: \", avg_weight_ctrl))\n",
    "print(paste0(\"Treatment Group 1: \", avg_weight_trt1))\n",
    "print(paste0(\"Treatment Group 2: \", avg_weight_trt2))\n",
    "# SOLUTION ENDS HERE"
   ]
  },
  {
   "cell_type": "markdown",
   "metadata": {},
   "source": [
    "Treatment group 2 has the highest average weight as compared to Control and Treatment 1.\n",
    "Difference estimator from the 2 models correspond to differences in average weight between each group."
   ]
  },
  {
   "cell_type": "markdown",
   "metadata": {
    "deletable": false,
    "editable": false,
    "nbgrader": {
     "grade": false,
     "locked": true,
     "solution": false
    }
   },
   "source": [
    "### For Parts C,D, and E: \n",
    "\n",
    "**Use the Dataset “Min_Wage.csv” and the information below to answer the questions.**\n",
    "\n",
    "The Minimum Wage Law protects the right of workers to get a minimum wage. Consider a scenario where the law of minimum wage was changed just in the state of New Jersey (i.e., law has not been changed in other states).  We want to use the data from company XYZ to observe the difference in hours worked by full time employees in New Jersey before and after the law was changed.  \n",
    "\n",
    "Note: The variable 'State’ indicates the citizenship of the worker, i.e., State = New Jersey ,the worker is from NJ, else worker is not from NJ (is from Philadelphia).    \n",
    "\n",
    "Note: The variable 'fte' contains the number of hours worked by a full time employee.   \n",
    "\n",
    "Note: The variable 'd' indicates whether or not the data was collected before or after the law changed, i.e. d = 1 indicates the data was collected after the law was changed, and d = 0 indicates the data was collected before the law was changed.\n",
    "\n",
    "**Note: The file \"Min_Wage.csv\" can be accessed at the path: (\"../resource/asnlib/publicdata/Min_Wage.csv\").\n",
    "E.g. read.csv(\"../resource/asnlib/publicdata/Min_Wage.csv\")**"
   ]
  },
  {
   "cell_type": "markdown",
   "metadata": {
    "deletable": false,
    "editable": false,
    "nbgrader": {
     "grade": false,
     "locked": true,
     "solution": false
    }
   },
   "source": [
    "### C. In the above problem, classify the workers into four groups and assign the corresponding group with the group title (A,B,C, and D) where the group titles are as follows:   (8 Points)\n",
    "\n",
    "| |Before|After|\n",
    "|------|------|------|\n",
    "|Control|A|C|\n",
    "|Treated|B|D|\n",
    "\n",
    "Note: This is a theoretical question, you just need to identify each group with a short description of what the group is. You don’t need to create a column categorizing the datapoints into groups."
   ]
  },
  {
   "cell_type": "code",
   "execution_count": 87,
   "metadata": {},
   "outputs": [
    {
     "name": "stdout",
     "output_type": "stream",
     "text": [
      "'data.frame':\t768 obs. of  14 variables:\n",
      " $ d       : int  0 0 0 0 0 0 0 0 0 0 ...\n",
      " $ d_nj    : int  0 0 0 0 0 0 0 0 0 0 ...\n",
      " $ fte     : num  15 15 24 19.2 21.5 ...\n",
      " $ bk      : int  1 1 0 0 1 0 0 1 0 0 ...\n",
      " $ kfc     : int  0 0 0 0 0 1 0 0 0 0 ...\n",
      " $ roys    : int  0 0 1 1 0 0 0 0 0 0 ...\n",
      " $ wendys  : int  0 0 0 0 0 0 1 0 1 1 ...\n",
      " $ co_owned: int  0 0 0 1 0 0 0 0 0 0 ...\n",
      " $ centralj: int  1 1 1 0 0 0 0 0 0 0 ...\n",
      " $ southj  : int  0 0 0 0 0 0 0 0 1 1 ...\n",
      " $ pa1     : int  0 0 0 0 0 0 0 0 0 0 ...\n",
      " $ pa2     : int  0 0 0 0 0 0 0 0 0 0 ...\n",
      " $ demp    : num  12 6.5 -1 2.25 13 1 -27.5 17 8 6 ...\n",
      " $ State   : chr  \"New Jersey\" \"New Jersey\" \"New Jersey\" \"New Jersey\" ...\n"
     ]
    },
    {
     "data": {
      "text/html": [
       "<table>\n",
       "<caption>A data.frame: 6 × 14</caption>\n",
       "<thead>\n",
       "\t<tr><th></th><th scope=col>d</th><th scope=col>d_nj</th><th scope=col>fte</th><th scope=col>bk</th><th scope=col>kfc</th><th scope=col>roys</th><th scope=col>wendys</th><th scope=col>co_owned</th><th scope=col>centralj</th><th scope=col>southj</th><th scope=col>pa1</th><th scope=col>pa2</th><th scope=col>demp</th><th scope=col>State</th></tr>\n",
       "\t<tr><th></th><th scope=col>&lt;int&gt;</th><th scope=col>&lt;int&gt;</th><th scope=col>&lt;dbl&gt;</th><th scope=col>&lt;int&gt;</th><th scope=col>&lt;int&gt;</th><th scope=col>&lt;int&gt;</th><th scope=col>&lt;int&gt;</th><th scope=col>&lt;int&gt;</th><th scope=col>&lt;int&gt;</th><th scope=col>&lt;int&gt;</th><th scope=col>&lt;int&gt;</th><th scope=col>&lt;int&gt;</th><th scope=col>&lt;dbl&gt;</th><th scope=col>&lt;chr&gt;</th></tr>\n",
       "</thead>\n",
       "<tbody>\n",
       "\t<tr><th scope=row>1</th><td>0</td><td>0</td><td>15.00</td><td>1</td><td>0</td><td>0</td><td>0</td><td>0</td><td>1</td><td>0</td><td>0</td><td>0</td><td>12.00</td><td>New Jersey</td></tr>\n",
       "\t<tr><th scope=row>2</th><td>0</td><td>0</td><td>15.00</td><td>1</td><td>0</td><td>0</td><td>0</td><td>0</td><td>1</td><td>0</td><td>0</td><td>0</td><td> 6.50</td><td>New Jersey</td></tr>\n",
       "\t<tr><th scope=row>3</th><td>0</td><td>0</td><td>24.00</td><td>0</td><td>0</td><td>1</td><td>0</td><td>0</td><td>1</td><td>0</td><td>0</td><td>0</td><td>-1.00</td><td>New Jersey</td></tr>\n",
       "\t<tr><th scope=row>4</th><td>0</td><td>0</td><td>19.25</td><td>0</td><td>0</td><td>1</td><td>0</td><td>1</td><td>0</td><td>0</td><td>0</td><td>0</td><td> 2.25</td><td>New Jersey</td></tr>\n",
       "\t<tr><th scope=row>5</th><td>0</td><td>0</td><td>21.50</td><td>1</td><td>0</td><td>0</td><td>0</td><td>0</td><td>0</td><td>0</td><td>0</td><td>0</td><td>13.00</td><td>New Jersey</td></tr>\n",
       "\t<tr><th scope=row>6</th><td>0</td><td>0</td><td> 9.50</td><td>0</td><td>1</td><td>0</td><td>0</td><td>0</td><td>0</td><td>0</td><td>0</td><td>0</td><td> 1.00</td><td>New Jersey</td></tr>\n",
       "</tbody>\n",
       "</table>\n"
      ],
      "text/latex": [
       "A data.frame: 6 × 14\n",
       "\\begin{tabular}{r|llllllllllllll}\n",
       "  & d & d\\_nj & fte & bk & kfc & roys & wendys & co\\_owned & centralj & southj & pa1 & pa2 & demp & State\\\\\n",
       "  & <int> & <int> & <dbl> & <int> & <int> & <int> & <int> & <int> & <int> & <int> & <int> & <int> & <dbl> & <chr>\\\\\n",
       "\\hline\n",
       "\t1 & 0 & 0 & 15.00 & 1 & 0 & 0 & 0 & 0 & 1 & 0 & 0 & 0 & 12.00 & New Jersey\\\\\n",
       "\t2 & 0 & 0 & 15.00 & 1 & 0 & 0 & 0 & 0 & 1 & 0 & 0 & 0 &  6.50 & New Jersey\\\\\n",
       "\t3 & 0 & 0 & 24.00 & 0 & 0 & 1 & 0 & 0 & 1 & 0 & 0 & 0 & -1.00 & New Jersey\\\\\n",
       "\t4 & 0 & 0 & 19.25 & 0 & 0 & 1 & 0 & 1 & 0 & 0 & 0 & 0 &  2.25 & New Jersey\\\\\n",
       "\t5 & 0 & 0 & 21.50 & 1 & 0 & 0 & 0 & 0 & 0 & 0 & 0 & 0 & 13.00 & New Jersey\\\\\n",
       "\t6 & 0 & 0 &  9.50 & 0 & 1 & 0 & 0 & 0 & 0 & 0 & 0 & 0 &  1.00 & New Jersey\\\\\n",
       "\\end{tabular}\n"
      ],
      "text/markdown": [
       "\n",
       "A data.frame: 6 × 14\n",
       "\n",
       "| <!--/--> | d &lt;int&gt; | d_nj &lt;int&gt; | fte &lt;dbl&gt; | bk &lt;int&gt; | kfc &lt;int&gt; | roys &lt;int&gt; | wendys &lt;int&gt; | co_owned &lt;int&gt; | centralj &lt;int&gt; | southj &lt;int&gt; | pa1 &lt;int&gt; | pa2 &lt;int&gt; | demp &lt;dbl&gt; | State &lt;chr&gt; |\n",
       "|---|---|---|---|---|---|---|---|---|---|---|---|---|---|---|\n",
       "| 1 | 0 | 0 | 15.00 | 1 | 0 | 0 | 0 | 0 | 1 | 0 | 0 | 0 | 12.00 | New Jersey |\n",
       "| 2 | 0 | 0 | 15.00 | 1 | 0 | 0 | 0 | 0 | 1 | 0 | 0 | 0 |  6.50 | New Jersey |\n",
       "| 3 | 0 | 0 | 24.00 | 0 | 0 | 1 | 0 | 0 | 1 | 0 | 0 | 0 | -1.00 | New Jersey |\n",
       "| 4 | 0 | 0 | 19.25 | 0 | 0 | 1 | 0 | 1 | 0 | 0 | 0 | 0 |  2.25 | New Jersey |\n",
       "| 5 | 0 | 0 | 21.50 | 1 | 0 | 0 | 0 | 0 | 0 | 0 | 0 | 0 | 13.00 | New Jersey |\n",
       "| 6 | 0 | 0 |  9.50 | 0 | 1 | 0 | 0 | 0 | 0 | 0 | 0 | 0 |  1.00 | New Jersey |\n",
       "\n"
      ],
      "text/plain": [
       "  d d_nj fte   bk kfc roys wendys co_owned centralj southj pa1 pa2 demp \n",
       "1 0 0    15.00 1  0   0    0      0        1        0      0   0   12.00\n",
       "2 0 0    15.00 1  0   0    0      0        1        0      0   0    6.50\n",
       "3 0 0    24.00 0  0   1    0      0        1        0      0   0   -1.00\n",
       "4 0 0    19.25 0  0   1    0      1        0        0      0   0    2.25\n",
       "5 0 0    21.50 1  0   0    0      0        0        0      0   0   13.00\n",
       "6 0 0     9.50 0  1   0    0      0        0        0      0   0    1.00\n",
       "  State     \n",
       "1 New Jersey\n",
       "2 New Jersey\n",
       "3 New Jersey\n",
       "4 New Jersey\n",
       "5 New Jersey\n",
       "6 New Jersey"
      ]
     },
     "metadata": {},
     "output_type": "display_data"
    },
    {
     "data": {
      "text/html": [
       "<style>\n",
       ".list-inline {list-style: none; margin:0; padding: 0}\n",
       ".list-inline>li {display: inline-block}\n",
       ".list-inline>li:not(:last-child)::after {content: \"\\00b7\"; padding: 0 .5ex}\n",
       "</style>\n",
       "<ol class=list-inline><li>'New Jersey'</li><li>'Philadelphia'</li></ol>\n"
      ],
      "text/latex": [
       "\\begin{enumerate*}\n",
       "\\item 'New Jersey'\n",
       "\\item 'Philadelphia'\n",
       "\\end{enumerate*}\n"
      ],
      "text/markdown": [
       "1. 'New Jersey'\n",
       "2. 'Philadelphia'\n",
       "\n",
       "\n"
      ],
      "text/plain": [
       "[1] \"New Jersey\"   \"Philadelphia\""
      ]
     },
     "metadata": {},
     "output_type": "display_data"
    },
    {
     "data": {
      "text/html": [
       "<style>\n",
       ".list-inline {list-style: none; margin:0; padding: 0}\n",
       ".list-inline>li {display: inline-block}\n",
       ".list-inline>li:not(:last-child)::after {content: \"\\00b7\"; padding: 0 .5ex}\n",
       "</style>\n",
       "<ol class=list-inline><li>0</li><li>1</li></ol>\n"
      ],
      "text/latex": [
       "\\begin{enumerate*}\n",
       "\\item 0\n",
       "\\item 1\n",
       "\\end{enumerate*}\n"
      ],
      "text/markdown": [
       "1. 0\n",
       "2. 1\n",
       "\n",
       "\n"
      ],
      "text/plain": [
       "[1] 0 1"
      ]
     },
     "metadata": {},
     "output_type": "display_data"
    }
   ],
   "source": [
    "# SOLUTION BEGINS HERE\n",
    "data = read.csv(\"../resource/asnlib/publicdata/Min_Wage.csv\")\n",
    "str(data)\n",
    "head(data)\n",
    "unique(data$State)\n",
    "unique(data$d)"
   ]
  },
  {
   "cell_type": "code",
   "execution_count": 88,
   "metadata": {},
   "outputs": [
    {
     "name": "stdout",
     "output_type": "stream",
     "text": [
      "'data.frame':\t768 obs. of  14 variables:\n",
      " $ d       : int  0 0 0 0 0 0 0 0 0 0 ...\n",
      " $ d_nj    : int  0 0 0 0 0 0 0 0 0 0 ...\n",
      " $ fte     : num  15 15 24 19.2 21.5 ...\n",
      " $ bk      : int  1 1 0 0 1 0 0 1 0 0 ...\n",
      " $ kfc     : int  0 0 0 0 0 1 0 0 0 0 ...\n",
      " $ roys    : int  0 0 1 1 0 0 0 0 0 0 ...\n",
      " $ wendys  : int  0 0 0 0 0 0 1 0 1 1 ...\n",
      " $ co_owned: int  0 0 0 1 0 0 0 0 0 0 ...\n",
      " $ centralj: int  1 1 1 0 0 0 0 0 0 0 ...\n",
      " $ southj  : int  0 0 0 0 0 0 0 0 1 1 ...\n",
      " $ pa1     : int  0 0 0 0 0 0 0 0 0 0 ...\n",
      " $ pa2     : int  0 0 0 0 0 0 0 0 0 0 ...\n",
      " $ demp    : num  12 6.5 -1 2.25 13 1 -27.5 17 8 6 ...\n",
      " $ State   : Factor w/ 2 levels \"Philadelphia\",..: 2 2 2 2 2 2 2 2 2 2 ...\n"
     ]
    }
   ],
   "source": [
    "data$State = relevel(as.factor(data$State), ref = \"Philadelphia\")\n",
    "str(data)"
   ]
  },
  {
   "cell_type": "markdown",
   "metadata": {},
   "source": [
    "If this was a natural experiment, changes in New Jersey would be treated as the treatment group, and states without changes would be the control. <br \\>\n",
    "Group A: State = \"Philadelphia\", d = 0 <br \\>\n",
    "Group B: State = \"New Jersey\", d = 0 <br \\>\n",
    "Group C: State = \"Philadelphia\", d = 1 <br \\>\n",
    "Group D: State = \"New Jersey\", d = 1 <br \\>"
   ]
  },
  {
   "cell_type": "code",
   "execution_count": 78,
   "metadata": {},
   "outputs": [
    {
     "data": {
      "text/plain": [
       "\n",
       "  A   B   C   D \n",
       " 75 309  75 309 "
      ]
     },
     "metadata": {},
     "output_type": "display_data"
    }
   ],
   "source": [
    "data = data %>% mutate(group = case_when((State == \"Philadelphia\" & d == 0) ~ \"A\",\n",
    "                                        (State == \"New Jersey\" & d == 0) ~ \"B\",\n",
    "                                        (State == \"Philadelphia\" & d == 1) ~ \"C\",\n",
    "                                        (State == \"New Jersey\" & d == 1) ~ \"D\"))\n",
    "table(data$group)\n",
    "# SOLUTION ENDS HERE"
   ]
  },
  {
   "cell_type": "markdown",
   "metadata": {
    "deletable": false,
    "editable": false,
    "nbgrader": {
     "grade": false,
     "locked": true,
     "solution": false
    }
   },
   "source": [
    "### D. To estimate the difference in difference we need four averages for the above categorized groups i.e., control group before change, control group after change, treatment group before change and treatment group after change. Compute the following: (7 Points)"
   ]
  },
  {
   "cell_type": "markdown",
   "metadata": {
    "deletable": false,
    "editable": false,
    "nbgrader": {
     "grade": false,
     "locked": true,
     "solution": false
    }
   },
   "source": [
    "#### i. Calculate the mean of the 'fte' variable for each of the four groups in R and print them. (4 Points)"
   ]
  },
  {
   "cell_type": "code",
   "execution_count": 79,
   "metadata": {},
   "outputs": [
    {
     "name": "stdout",
     "output_type": "stream",
     "text": [
      "[1] \"Mean fte for Group A: 23.38\"\n",
      "[1] \"Mean fte for Group B: 20.4305825242718\"\n",
      "[1] \"Mean fte for Group C: 21.0966666666667\"\n",
      "[1] \"Mean fte for Group D: 20.8972491909385\"\n"
     ]
    }
   ],
   "source": [
    "# SOLUTION BEGINS HERE\n",
    "mean_A = mean(data[which(data$group == \"A\"),]$fte)\n",
    "mean_B = mean(data[which(data$group == \"B\"),]$fte)\n",
    "mean_C = mean(data[which(data$group == \"C\"),]$fte)\n",
    "mean_D = mean(data[which(data$group == \"D\"),]$fte)\n",
    "\n",
    "print(paste0(\"Mean fte for Group A: \", mean_A))\n",
    "print(paste0(\"Mean fte for Group B: \", mean_B))\n",
    "print(paste0(\"Mean fte for Group C: \", mean_C))\n",
    "print(paste0(\"Mean fte for Group D: \", mean_D))\n",
    "# SOLUTION ENDS HERE"
   ]
  },
  {
   "cell_type": "markdown",
   "metadata": {
    "deletable": false,
    "editable": false,
    "nbgrader": {
     "grade": false,
     "locked": true,
     "solution": false
    }
   },
   "source": [
    "#### ii. Using these averages, estimate the value of the difference in difference. (3 Points)"
   ]
  },
  {
   "cell_type": "code",
   "execution_count": 80,
   "metadata": {},
   "outputs": [
    {
     "name": "stdout",
     "output_type": "stream",
     "text": [
      "[1] \"Difference in difference = 2.75\"\n"
     ]
    }
   ],
   "source": [
    "# SOLUTION BEGINS HERE\n",
    "diff_ctrl = mean_C - mean_A\n",
    "diff_trt = mean_D - mean_B\n",
    "diff_in_diff = diff_trt - diff_ctrl\n",
    "print(paste0(\"Difference in difference = \", diff_in_diff))\n",
    "# SOLUTION ENDS HERE"
   ]
  },
  {
   "cell_type": "markdown",
   "metadata": {
    "deletable": false,
    "editable": false,
    "nbgrader": {
     "grade": false,
     "locked": true,
     "solution": false
    }
   },
   "source": [
    "### E.  Estimate the DID (Difference in Difference) using regression model.  (4 Points)"
   ]
  },
  {
   "cell_type": "code",
   "execution_count": 91,
   "metadata": {},
   "outputs": [
    {
     "data": {
      "text/plain": [
       "\n",
       "Call:\n",
       "lm(formula = fte ~ State + d + State * d, data = data)\n",
       "\n",
       "Residuals:\n",
       "    Min      1Q  Median      3Q     Max \n",
       "-21.097  -6.472  -0.931   4.603  64.569 \n",
       "\n",
       "Coefficients:\n",
       "                  Estimate Std. Error t value Pr(>|t|)    \n",
       "(Intercept)         23.380      1.098  21.288   <2e-16 ***\n",
       "StateNew Jersey     -2.949      1.224  -2.409   0.0162 *  \n",
       "d                   -2.283      1.553  -1.470   0.1419    \n",
       "StateNew Jersey:d    2.750      1.731   1.588   0.1126    \n",
       "---\n",
       "Signif. codes:  0 ‘***’ 0.001 ‘**’ 0.01 ‘*’ 0.05 ‘.’ 0.1 ‘ ’ 1\n",
       "\n",
       "Residual standard error: 9.511 on 764 degrees of freedom\n",
       "Multiple R-squared:  0.007587,\tAdjusted R-squared:  0.00369 \n",
       "F-statistic: 1.947 on 3 and 764 DF,  p-value: 0.1206\n"
      ]
     },
     "metadata": {},
     "output_type": "display_data"
    }
   ],
   "source": [
    "# SOLUTION BEGINS HERE\n",
    "model = lm(fte ~ State + d + State*d, data)\n",
    "summary(model)\n",
    "# SOLUTION ENDS HERE"
   ]
  },
  {
   "cell_type": "markdown",
   "metadata": {
    "deletable": false,
    "editable": false,
    "nbgrader": {
     "grade": false,
     "locked": true,
     "solution": false
    }
   },
   "source": [
    "## Q2.  (10 Points Total)\n",
    "\n",
    "For the following questions, use the dataset Berkshire.csv with the following variables:  \n",
    "\n",
    "||Column Name |Description|\n",
    "|------|------|------|\n",
    "|1|Date|Calendat Date|\n",
    "|2|BRKret|Berkshire Hathaway’s monthly return|\n",
    "|3|MKT|the return on the aggregate stock market|\n",
    "|4|RF|the risk free rate of return|\n",
    "\n",
    "You may/may not need the following dependencies:  \n",
    "\n",
    "“lubridate” package which is already installed in R in Vocareum.\n",
    "\n",
    "“PerformanceAnalytics” package which can be installed as indicated at the beginning of this homework.\n",
    "\n",
    "\n",
    "**Note: The file \"Berkshire.csv\" can be accessed at the path: (\"../resource/asnlib/publicdata/Berkshire.csv\").\n",
    "E.g. read.csv(\"../resource/asnlib/publicdata/Berkshire.csv\")**\n",
    "\n",
    "**Return data is in decimal format, 0.01=1%.  Round all answers to the nearest hundredth, for example 12.34%.**"
   ]
  },
  {
   "cell_type": "markdown",
   "metadata": {
    "deletable": false,
    "editable": false,
    "nbgrader": {
     "grade": false,
     "locked": true,
     "solution": false
    }
   },
   "source": [
    "### A. Find the standard deviation of Berkshire Hathaway over the sample period. (2 Points)"
   ]
  },
  {
   "cell_type": "code",
   "execution_count": 29,
   "metadata": {},
   "outputs": [
    {
     "name": "stderr",
     "output_type": "stream",
     "text": [
      "Loading required package: lubridate\n",
      "\n",
      "\n",
      "Attaching package: ‘lubridate’\n",
      "\n",
      "\n",
      "The following objects are masked from ‘package:base’:\n",
      "\n",
      "    date, intersect, setdiff, union\n",
      "\n",
      "\n",
      "Loading required package: PerformanceAnalytics\n",
      "\n",
      "Loading required package: xts\n",
      "\n",
      "Loading required package: zoo\n",
      "\n",
      "\n",
      "Attaching package: ‘zoo’\n",
      "\n",
      "\n",
      "The following objects are masked from ‘package:base’:\n",
      "\n",
      "    as.Date, as.Date.numeric\n",
      "\n",
      "\n",
      "\n",
      "Attaching package: ‘xts’\n",
      "\n",
      "\n",
      "The following objects are masked from ‘package:dplyr’:\n",
      "\n",
      "    first, last\n",
      "\n",
      "\n",
      "\n",
      "Attaching package: ‘PerformanceAnalytics’\n",
      "\n",
      "\n",
      "The following object is masked from ‘package:graphics’:\n",
      "\n",
      "    legend\n",
      "\n",
      "\n"
     ]
    }
   ],
   "source": [
    "# SOLUTION BEGINS HERE\n",
    "if(!require(\"lubridate\")) {install.packages(\"lubridate\")\n",
    "                           library(\"lubridate\")}\n",
    "if(!require(\"PerformanceAnalytics\")) {install.packages(\"PerformanceAnalytics\")\n",
    "                                      library(\"PerformanceAnalytics\")}\n",
    "if(!require(\"xts\")) {install.packages(\"xts\")\n",
    "                     library(\"xts\")}"
   ]
  },
  {
   "cell_type": "code",
   "execution_count": 33,
   "metadata": {},
   "outputs": [
    {
     "name": "stdout",
     "output_type": "stream",
     "text": [
      "'data.frame':\t500 obs. of  4 variables:\n",
      " $ Date  : chr  \"11/30/1976\" \"12/31/1976\" \"1/31/1977\" \"2/28/1977\" ...\n",
      " $ BrkRet: num  0.1544 0.1465 0 0 0.0778 ...\n",
      " $ MKT   : num  0.0076 0.0605 -0.0369 -0.016 -0.0099 0.0053 -0.0109 0.0511 -0.0127 -0.0131 ...\n",
      " $ RF    : num  0.004 0.004 0.0036 0.0035 0.0038 0.0038 0.0037 0.004 0.0042 0.0044 ...\n"
     ]
    },
    {
     "data": {
      "text/html": [
       "<table>\n",
       "<caption>A data.frame: 6 × 4</caption>\n",
       "<thead>\n",
       "\t<tr><th></th><th scope=col>Date</th><th scope=col>BrkRet</th><th scope=col>MKT</th><th scope=col>RF</th></tr>\n",
       "\t<tr><th></th><th scope=col>&lt;chr&gt;</th><th scope=col>&lt;dbl&gt;</th><th scope=col>&lt;dbl&gt;</th><th scope=col>&lt;dbl&gt;</th></tr>\n",
       "</thead>\n",
       "<tbody>\n",
       "\t<tr><th scope=row>1</th><td>11/30/1976</td><td> 0.1544</td><td> 0.0076</td><td>0.0040</td></tr>\n",
       "\t<tr><th scope=row>2</th><td>12/31/1976</td><td> 0.1465</td><td> 0.0605</td><td>0.0040</td></tr>\n",
       "\t<tr><th scope=row>3</th><td>1/31/1977 </td><td> 0.0000</td><td>-0.0369</td><td>0.0036</td></tr>\n",
       "\t<tr><th scope=row>4</th><td>2/28/1977 </td><td> 0.0000</td><td>-0.0160</td><td>0.0035</td></tr>\n",
       "\t<tr><th scope=row>5</th><td>3/31/1977 </td><td> 0.0778</td><td>-0.0099</td><td>0.0038</td></tr>\n",
       "\t<tr><th scope=row>6</th><td>4/30/1977 </td><td>-0.0103</td><td> 0.0053</td><td>0.0038</td></tr>\n",
       "</tbody>\n",
       "</table>\n"
      ],
      "text/latex": [
       "A data.frame: 6 × 4\n",
       "\\begin{tabular}{r|llll}\n",
       "  & Date & BrkRet & MKT & RF\\\\\n",
       "  & <chr> & <dbl> & <dbl> & <dbl>\\\\\n",
       "\\hline\n",
       "\t1 & 11/30/1976 &  0.1544 &  0.0076 & 0.0040\\\\\n",
       "\t2 & 12/31/1976 &  0.1465 &  0.0605 & 0.0040\\\\\n",
       "\t3 & 1/31/1977  &  0.0000 & -0.0369 & 0.0036\\\\\n",
       "\t4 & 2/28/1977  &  0.0000 & -0.0160 & 0.0035\\\\\n",
       "\t5 & 3/31/1977  &  0.0778 & -0.0099 & 0.0038\\\\\n",
       "\t6 & 4/30/1977  & -0.0103 &  0.0053 & 0.0038\\\\\n",
       "\\end{tabular}\n"
      ],
      "text/markdown": [
       "\n",
       "A data.frame: 6 × 4\n",
       "\n",
       "| <!--/--> | Date &lt;chr&gt; | BrkRet &lt;dbl&gt; | MKT &lt;dbl&gt; | RF &lt;dbl&gt; |\n",
       "|---|---|---|---|---|\n",
       "| 1 | 11/30/1976 |  0.1544 |  0.0076 | 0.0040 |\n",
       "| 2 | 12/31/1976 |  0.1465 |  0.0605 | 0.0040 |\n",
       "| 3 | 1/31/1977  |  0.0000 | -0.0369 | 0.0036 |\n",
       "| 4 | 2/28/1977  |  0.0000 | -0.0160 | 0.0035 |\n",
       "| 5 | 3/31/1977  |  0.0778 | -0.0099 | 0.0038 |\n",
       "| 6 | 4/30/1977  | -0.0103 |  0.0053 | 0.0038 |\n",
       "\n"
      ],
      "text/plain": [
       "  Date       BrkRet  MKT     RF    \n",
       "1 11/30/1976  0.1544  0.0076 0.0040\n",
       "2 12/31/1976  0.1465  0.0605 0.0040\n",
       "3 1/31/1977   0.0000 -0.0369 0.0036\n",
       "4 2/28/1977   0.0000 -0.0160 0.0035\n",
       "5 3/31/1977   0.0778 -0.0099 0.0038\n",
       "6 4/30/1977  -0.0103  0.0053 0.0038"
      ]
     },
     "metadata": {},
     "output_type": "display_data"
    }
   ],
   "source": [
    "data = read.csv(\"../resource/asnlib/publicdata/Berkshire.csv\")\n",
    "str(data)\n",
    "head(data)"
   ]
  },
  {
   "cell_type": "code",
   "execution_count": 34,
   "metadata": {},
   "outputs": [
    {
     "name": "stdout",
     "output_type": "stream",
     "text": [
      "'data.frame':\t500 obs. of  4 variables:\n",
      " $ Date  : Date, format: \"1976-11-30\" \"1976-12-31\" ...\n",
      " $ BrkRet: num  0.1544 0.1465 0 0 0.0778 ...\n",
      " $ MKT   : num  0.0076 0.0605 -0.0369 -0.016 -0.0099 0.0053 -0.0109 0.0511 -0.0127 -0.0131 ...\n",
      " $ RF    : num  0.004 0.004 0.0036 0.0035 0.0038 0.0038 0.0037 0.004 0.0042 0.0044 ...\n"
     ]
    },
    {
     "data": {
      "text/html": [
       "<table>\n",
       "<caption>A data.frame: 6 × 4</caption>\n",
       "<thead>\n",
       "\t<tr><th></th><th scope=col>Date</th><th scope=col>BrkRet</th><th scope=col>MKT</th><th scope=col>RF</th></tr>\n",
       "\t<tr><th></th><th scope=col>&lt;date&gt;</th><th scope=col>&lt;dbl&gt;</th><th scope=col>&lt;dbl&gt;</th><th scope=col>&lt;dbl&gt;</th></tr>\n",
       "</thead>\n",
       "<tbody>\n",
       "\t<tr><th scope=row>1</th><td>1976-11-30</td><td> 0.1544</td><td> 0.0076</td><td>0.0040</td></tr>\n",
       "\t<tr><th scope=row>2</th><td>1976-12-31</td><td> 0.1465</td><td> 0.0605</td><td>0.0040</td></tr>\n",
       "\t<tr><th scope=row>3</th><td>1977-01-31</td><td> 0.0000</td><td>-0.0369</td><td>0.0036</td></tr>\n",
       "\t<tr><th scope=row>4</th><td>1977-02-28</td><td> 0.0000</td><td>-0.0160</td><td>0.0035</td></tr>\n",
       "\t<tr><th scope=row>5</th><td>1977-03-31</td><td> 0.0778</td><td>-0.0099</td><td>0.0038</td></tr>\n",
       "\t<tr><th scope=row>6</th><td>1977-04-30</td><td>-0.0103</td><td> 0.0053</td><td>0.0038</td></tr>\n",
       "</tbody>\n",
       "</table>\n"
      ],
      "text/latex": [
       "A data.frame: 6 × 4\n",
       "\\begin{tabular}{r|llll}\n",
       "  & Date & BrkRet & MKT & RF\\\\\n",
       "  & <date> & <dbl> & <dbl> & <dbl>\\\\\n",
       "\\hline\n",
       "\t1 & 1976-11-30 &  0.1544 &  0.0076 & 0.0040\\\\\n",
       "\t2 & 1976-12-31 &  0.1465 &  0.0605 & 0.0040\\\\\n",
       "\t3 & 1977-01-31 &  0.0000 & -0.0369 & 0.0036\\\\\n",
       "\t4 & 1977-02-28 &  0.0000 & -0.0160 & 0.0035\\\\\n",
       "\t5 & 1977-03-31 &  0.0778 & -0.0099 & 0.0038\\\\\n",
       "\t6 & 1977-04-30 & -0.0103 &  0.0053 & 0.0038\\\\\n",
       "\\end{tabular}\n"
      ],
      "text/markdown": [
       "\n",
       "A data.frame: 6 × 4\n",
       "\n",
       "| <!--/--> | Date &lt;date&gt; | BrkRet &lt;dbl&gt; | MKT &lt;dbl&gt; | RF &lt;dbl&gt; |\n",
       "|---|---|---|---|---|\n",
       "| 1 | 1976-11-30 |  0.1544 |  0.0076 | 0.0040 |\n",
       "| 2 | 1976-12-31 |  0.1465 |  0.0605 | 0.0040 |\n",
       "| 3 | 1977-01-31 |  0.0000 | -0.0369 | 0.0036 |\n",
       "| 4 | 1977-02-28 |  0.0000 | -0.0160 | 0.0035 |\n",
       "| 5 | 1977-03-31 |  0.0778 | -0.0099 | 0.0038 |\n",
       "| 6 | 1977-04-30 | -0.0103 |  0.0053 | 0.0038 |\n",
       "\n"
      ],
      "text/plain": [
       "  Date       BrkRet  MKT     RF    \n",
       "1 1976-11-30  0.1544  0.0076 0.0040\n",
       "2 1976-12-31  0.1465  0.0605 0.0040\n",
       "3 1977-01-31  0.0000 -0.0369 0.0036\n",
       "4 1977-02-28  0.0000 -0.0160 0.0035\n",
       "5 1977-03-31  0.0778 -0.0099 0.0038\n",
       "6 1977-04-30 -0.0103  0.0053 0.0038"
      ]
     },
     "metadata": {},
     "output_type": "display_data"
    }
   ],
   "source": [
    "data$Date = mdy(data$Date)\n",
    "str(data)\n",
    "head(data)"
   ]
  },
  {
   "cell_type": "code",
   "execution_count": 12,
   "metadata": {},
   "outputs": [
    {
     "name": "stdout",
     "output_type": "stream",
     "text": [
      "[1] \"Standard deviation of Berkshire Hathaway: 6.75%\"\n"
     ]
    }
   ],
   "source": [
    "print(paste0(\"Standard deviation of Berkshire Hathaway: \", round(sd(data$BrkRet)*100, 2), \"%\"))"
   ]
  },
  {
   "cell_type": "code",
   "execution_count": null,
   "metadata": {
    "collapsed": true
   },
   "outputs": [],
   "source": [
    "# SOLUTION ENDS HERE"
   ]
  },
  {
   "cell_type": "markdown",
   "metadata": {
    "deletable": false,
    "editable": false,
    "nbgrader": {
     "grade": false,
     "locked": true,
     "solution": false
    }
   },
   "source": [
    "### B. Find Berkshire Hathaway’s average return over the sample period. Use  arithmetic average (2 Points)\n",
    "    \n",
    "    "
   ]
  },
  {
   "cell_type": "code",
   "execution_count": 16,
   "metadata": {},
   "outputs": [
    {
     "name": "stdout",
     "output_type": "stream",
     "text": [
      "[1] \"Average return of Berkshire Hathaway: 1.9%\"\n"
     ]
    }
   ],
   "source": [
    "# SOLUTION BEGINS HERE\n",
    "print(paste0(\"Average return of Berkshire Hathaway: \", round(mean(data$BrkRet)*100, 2), \"%\"))\n",
    "# SOLUTION ENDS HERE"
   ]
  },
  {
   "cell_type": "markdown",
   "metadata": {
    "deletable": false,
    "editable": false,
    "nbgrader": {
     "grade": false,
     "locked": true,
     "solution": false
    }
   },
   "source": [
    "### C. By what percentage per month on average has Berkshire Hathaway outperformed the market? (2 Points)"
   ]
  },
  {
   "cell_type": "code",
   "execution_count": 28,
   "metadata": {},
   "outputs": [
    {
     "name": "stdout",
     "output_type": "stream",
     "text": [
      "[1] \"Berkshire Hathaway has on average outperformed the market 54% of the time\"\n"
     ]
    }
   ],
   "source": [
    "# SOLUTION BEGINS HERE\n",
    "data = data %>% mutate(outperform = ifelse(BrkRet > MKT, 1, 0))\n",
    "print(paste0(\"Berkshire Hathaway has on average outperformed the market \", sum(data$outperform)/nrow(data)*100, \"% of the time\"))\n",
    "# SOLUTION ENDS HERE"
   ]
  },
  {
   "cell_type": "markdown",
   "metadata": {
    "deletable": false,
    "editable": false,
    "nbgrader": {
     "grade": false,
     "locked": true,
     "solution": false
    }
   },
   "source": [
    "### D. If $10,000 were invested in Berkshire Hathaway at the start of the sample period, how much would the investment have grown to by the end of the sample period? (2 Points)"
   ]
  },
  {
   "cell_type": "code",
   "execution_count": 80,
   "metadata": {},
   "outputs": [
    {
     "name": "stdout",
     "output_type": "stream",
     "text": [
      "[1] \"$10,000 investment from the start of the sample period would have grown to $41,439,895.55\"\n"
     ]
    }
   ],
   "source": [
    "# SOLUTION BEGINS HERE\n",
    "data_ordered = data[order(data$Date),]\n",
    "data_xts = xts(data_ordered[,-1], order.by=data_ordered$Date)\n",
    "print(paste0(\"$10,000 investment from the start of the sample period would have grown to $\", \n",
    "             format(as.numeric((Return.cumulative(data_xts$BrkRet, geometric = TRUE)+1)*10000), nsmall = 2, big.mark = \",\")))\n",
    "# SOLUTION ENDS HERE"
   ]
  },
  {
   "cell_type": "markdown",
   "metadata": {
    "deletable": false,
    "editable": false,
    "nbgrader": {
     "grade": false,
     "locked": true,
     "solution": false
    }
   },
   "source": [
    "### E. Plot the cumulative return of Berkshire and Market across all years and include a legend. Describe your observation. (2 Points)"
   ]
  },
  {
   "cell_type": "code",
   "execution_count": 92,
   "metadata": {},
   "outputs": [
    {
     "data": {
      "image/png": "[encoded data removed]",
      "text/plain": [
       "plot without title"
      ]
     },
     "metadata": {
      "image/png": {
       "height": 420,
       "width": 420
      }
     },
     "output_type": "display_data"
    }
   ],
   "source": [
    "# SOLUTION BEGINS HERE\n",
    "chart.CumReturns(data_xts, \n",
    "                 main = \"Cumulative Returns\", \n",
    "                 wealth.index = FALSE,\n",
    "                 legend.loc = TRUE)"
   ]
  },
  {
   "cell_type": "markdown",
   "metadata": {},
   "source": [
    "The Berkshire fund vastly outperformed (~400,000%) the market (~10,000%) on cumulative returns from the start of the sample period."
   ]
  },
  {
   "cell_type": "code",
   "execution_count": null,
   "metadata": {
    "collapsed": true
   },
   "outputs": [],
   "source": [
    "# SOLUTION ENDS HERE"
   ]
  }
 ],
 "metadata": {
  "kernelspec": {
   "display_name": "R 4.0.2",
   "language": "R",
   "name": "ir-4.0.2"
  },
  "language_info": {
   "codemirror_mode": "r",
   "file_extension": ".r",
   "mimetype": "text/x-r-source",
   "name": "R",
   "pygments_lexer": "r",
   "version": "4.0.2"
  }
 },
 "nbformat": 4,
 "nbformat_minor": 2
}
